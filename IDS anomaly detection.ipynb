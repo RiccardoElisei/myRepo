{
  "nbformat": 4,
  "nbformat_minor": 0,
  "metadata": {
    "colab": {
      "provenance": [],
      "mount_file_id": "1z4_r4SbdS844cn4r_UV7FfeLHG45yAy3",
      "authorship_tag": "ABX9TyNHQEhVadzEdin0piCL7OoD",
      "include_colab_link": true
    },
    "kernelspec": {
      "name": "python3",
      "display_name": "Python 3"
    },
    "language_info": {
      "name": "python"
    }
  },
  "cells": [
    {
      "cell_type": "markdown",
      "metadata": {
        "id": "view-in-github",
        "colab_type": "text"
      },
      "source": [
        "<a href=\"https://colab.research.google.com/github/RiccardoElisei/myRepo/blob/main/IDS%20anomaly%20detection.ipynb\" target=\"_parent\"><img src=\"https://colab.research.google.com/assets/colab-badge.svg\" alt=\"Open In Colab\"/></a>"
      ]
    },
    {
      "cell_type": "code",
      "execution_count": 2,
      "metadata": {
        "id": "wmc4uLBtuOV5"
      },
      "outputs": [],
      "source": [
        "import pandas as pd\n",
        "import glob"
      ]
    },
    {
      "cell_type": "code",
      "source": [
        "path = \"drive/MyDrive/MachineLearningCVE/\"\n",
        "files = [file for file in glob.glob(path + \"**/*.csv\", recursive=True)]"
      ],
      "metadata": {
        "id": "Yswd3EYWuTzi"
      },
      "execution_count": 3,
      "outputs": []
    },
    {
      "cell_type": "code",
      "source": [
        "[print(f) for f in files]"
      ],
      "metadata": {
        "id": "1EWZcoiZuV5y"
      },
      "execution_count": null,
      "outputs": []
    },
    {
      "cell_type": "code",
      "source": [
        "dataset = [pd.read_csv(f) for f in files]"
      ],
      "metadata": {
        "id": "KKeMzcfpuX_T"
      },
      "execution_count": 5,
      "outputs": []
    },
    {
      "cell_type": "code",
      "source": [
        "for d in dataset:\n",
        "    print(d.shape)"
      ],
      "metadata": {
        "id": "g-bT7D_LuaMs"
      },
      "execution_count": null,
      "outputs": []
    },
    {
      "cell_type": "code",
      "source": [
        "dataset = pd.concat([d for d in dataset]).drop_duplicates(keep=False)\n",
        "dataset.reset_index(drop=True, inplace = True)"
      ],
      "metadata": {
        "id": "Q_lcmgqSujjE"
      },
      "execution_count": 7,
      "outputs": []
    },
    {
      "cell_type": "code",
      "source": [
        "dataset.shape"
      ],
      "metadata": {
        "id": "NHEgvkQsujcF"
      },
      "execution_count": null,
      "outputs": []
    },
    {
      "cell_type": "code",
      "source": [
        "dataset.info()"
      ],
      "metadata": {
        "id": "Y8HKfJbxujZQ"
      },
      "execution_count": null,
      "outputs": []
    },
    {
      "cell_type": "code",
      "source": [
        "dataset.describe()"
      ],
      "metadata": {
        "id": "-yhx9bfAujWm"
      },
      "execution_count": null,
      "outputs": []
    },
    {
      "cell_type": "code",
      "source": [
        "dataset.head()"
      ],
      "metadata": {
        "id": "ILtDcIhGujTv"
      },
      "execution_count": null,
      "outputs": []
    },
    {
      "cell_type": "code",
      "source": [
        "print(dataset[' Label'].unique())\n",
        "len(dataset[' Label'].unique())"
      ],
      "metadata": {
        "id": "KQZZ61upujQ3"
      },
      "execution_count": null,
      "outputs": []
    },
    {
      "cell_type": "code",
      "source": [
        "label_names = dataset[' Label'].unique()\n",
        "\n",
        "import re\n",
        "\n",
        "label_names = [re.sub(\"[^a-zA-Z ]+\", \"\", l) for l in label_names]\n",
        "label_names = [re.sub(\"[\\s\\s]\", '_', l) for l in label_names]\n",
        "label_names = [lab.replace(\"__\", \"_\") for lab in label_names]\n",
        "\n",
        "label_names, len(label_names)"
      ],
      "metadata": {
        "id": "L5M8U7tWujOA"
      },
      "execution_count": null,
      "outputs": []
    },
    {
      "cell_type": "code",
      "source": [
        "labels = dataset[' Label'].unique()\n",
        "\n",
        "for i in range(0,len(label_names)):\n",
        "    dataset[' Label'] = dataset[' Label'].replace({labels[i] : label_names[i]})\n",
        "\n",
        "dataset[' Label'].unique()"
      ],
      "metadata": {
        "id": "JY7EyKpjujLJ"
      },
      "execution_count": null,
      "outputs": []
    },
    {
      "cell_type": "code",
      "source": [
        "dataset.isnull().values.any()"
      ],
      "metadata": {
        "id": "cW0bnB8KujIS"
      },
      "execution_count": null,
      "outputs": []
    },
    {
      "cell_type": "code",
      "source": [
        "[col for col in dataset if dataset[col].isnull().values.any()]"
      ],
      "metadata": {
        "id": "oGlJ2nxSujFZ"
      },
      "execution_count": null,
      "outputs": []
    },
    {
      "cell_type": "code",
      "source": [
        "dataset['Flow Bytes/s'].isnull().sum()"
      ],
      "metadata": {
        "id": "bIarotRxujCx"
      },
      "execution_count": null,
      "outputs": []
    },
    {
      "cell_type": "code",
      "source": [
        "before = dataset.shape\n",
        "dataset.dropna(inplace=True)\n",
        "after = dataset.shape\n",
        "before[0] - after[0]"
      ],
      "metadata": {
        "id": "2dONqw8kui_6"
      },
      "execution_count": null,
      "outputs": []
    },
    {
      "cell_type": "code",
      "source": [
        "dataset.isnull().any().any()"
      ],
      "metadata": {
        "id": "0DkLQ2tMui9T"
      },
      "execution_count": null,
      "outputs": []
    },
    {
      "cell_type": "code",
      "source": [
        "import numpy as np"
      ],
      "metadata": {
        "id": "-h1cxUBGui6K"
      },
      "execution_count": 20,
      "outputs": []
    },
    {
      "cell_type": "code",
      "source": [
        "labl = dataset[' Label']\n",
        "dataset = dataset.loc[:, dataset.columns != ' Label'].astype('float64')"
      ],
      "metadata": {
        "id": "kHwKdIOCui3j"
      },
      "execution_count": 21,
      "outputs": []
    },
    {
      "cell_type": "code",
      "source": [
        "np.all(np.isfinite(dataset))"
      ],
      "metadata": {
        "id": "t0Mx9tcrui08"
      },
      "execution_count": null,
      "outputs": []
    },
    {
      "cell_type": "code",
      "source": [
        "nonfinite = [col for col in dataset if not np.all(np.isfinite(dataset[col]))]\n",
        "nonfinite"
      ],
      "metadata": {
        "id": "0IwOYWXuuix1"
      },
      "execution_count": null,
      "outputs": []
    },
    {
      "cell_type": "code",
      "source": [
        "finite = np.isfinite(dataset['Flow Bytes/s']).sum()\n",
        "\n",
        "dataset.shape[0] - finite"
      ],
      "metadata": {
        "id": "KrDswaVBuiu8"
      },
      "execution_count": null,
      "outputs": []
    },
    {
      "cell_type": "code",
      "source": [
        "finite = np.isfinite(dataset[' Flow Packets/s']).sum()\n",
        "\n",
        "dataset.shape[0] - finite"
      ],
      "metadata": {
        "id": "ym3G33yvuimk"
      },
      "execution_count": null,
      "outputs": []
    },
    {
      "cell_type": "code",
      "source": [
        "dataset = dataset.replace([np.inf, -np.inf], np.nan)"
      ],
      "metadata": {
        "id": "vxs6IUa-uiX3"
      },
      "execution_count": 27,
      "outputs": []
    },
    {
      "cell_type": "code",
      "source": [
        "dataset = dataset.merge(labl, how='outer', left_index=True, right_index=True)"
      ],
      "metadata": {
        "id": "ZPj4yOpQvKsq"
      },
      "execution_count": 28,
      "outputs": []
    },
    {
      "cell_type": "code",
      "source": [
        "dataset.dropna(inplace=True)"
      ],
      "metadata": {
        "id": "XmFufGUMvKp-"
      },
      "execution_count": 29,
      "outputs": []
    },
    {
      "cell_type": "code",
      "source": [
        "dataset.head()"
      ],
      "metadata": {
        "id": "SK7DDfhXvKnl"
      },
      "execution_count": null,
      "outputs": []
    },
    {
      "cell_type": "code",
      "source": [
        "from sklearn.decomposition import PCA\n",
        "from sklearn.manifold import TSNE\n",
        "import seaborn as sns\n",
        "import matplotlib.pyplot as plt\n",
        "\n",
        "%matplotlib inline"
      ],
      "metadata": {
        "id": "6KfaGBkaE2Ea"
      },
      "execution_count": 44,
      "outputs": []
    },
    {
      "cell_type": "code",
      "source": [
        "np.random.seed(42)\n",
        "rand_perm = np.random.permutation(dataset.shape[0])"
      ],
      "metadata": {
        "id": "pGgZJ7_5E166"
      },
      "execution_count": 32,
      "outputs": []
    },
    {
      "cell_type": "code",
      "source": [
        "feature_cols = dataset.columns[:-1]\n",
        "\n",
        "dataset_subset = dataset.iloc[rand_perm[:10000],:]"
      ],
      "metadata": {
        "id": "NernAbP6E1t2"
      },
      "execution_count": 34,
      "outputs": []
    },
    {
      "cell_type": "code",
      "source": [
        "dataset_subset = dataset_subset.replace([np.inf, -np.inf], np.nan)\n",
        "dataset_subset.dropna(inplace=True)"
      ],
      "metadata": {
        "id": "EQwf_FtuGREb"
      },
      "execution_count": 35,
      "outputs": []
    },
    {
      "cell_type": "code",
      "source": [
        "data_subset = dataset_subset[feature_cols].values"
      ],
      "metadata": {
        "id": "D_CmSDJ_GRCE"
      },
      "execution_count": 36,
      "outputs": []
    },
    {
      "cell_type": "code",
      "source": [
        "pca = PCA(n_components=19)\n",
        "pca_res = pca.fit_transform(data_subset)\n",
        "\n",
        "data_subset = None\n",
        "np.sum(pca.explained_variance_ratio_)"
      ],
      "metadata": {
        "id": "FrZnXhT-GQ-6"
      },
      "execution_count": null,
      "outputs": []
    },
    {
      "cell_type": "code",
      "source": [
        "tsne = TSNE(n_components=2, verbose=0, perplexity=40, n_iter=1000)\n",
        "tsne_res = tsne.fit_transform(pca_res)\n",
        "print(\"done\")"
      ],
      "metadata": {
        "id": "HAlqJXWQGQ8A"
      },
      "execution_count": null,
      "outputs": []
    },
    {
      "cell_type": "code",
      "source": [
        "dataset_subset['tsne_firstD'] = tsne_res[:,0]\n",
        "dataset_subset['tsne_secondD'] = tsne_res[:,1]"
      ],
      "metadata": {
        "id": "Go0j1ixTHFSY"
      },
      "execution_count": 39,
      "outputs": []
    },
    {
      "cell_type": "code",
      "source": [
        "plt.figure(figsize=(16,16))\n",
        "\n",
        "sns.scatterplot(\n",
        "    x=\"tsne_firstD\", y=\"tsne_secondD\",\n",
        "    palette=sns.color_palette(\"hls\", n_colors = 15),\n",
        "    data=dataset_subset,\n",
        "    hue=' Label',\n",
        "    legend=\"full\",\n",
        "    alpha=0.75\n",
        ")"
      ],
      "metadata": {
        "id": "Mfq8RCFcHFKf"
      },
      "execution_count": null,
      "outputs": []
    }
  ]
}